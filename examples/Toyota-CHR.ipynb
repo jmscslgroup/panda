{
 "cells": [
  {
   "cell_type": "code",
   "execution_count": null,
   "metadata": {},
   "outputs": [],
   "source": [
    "!cd ..; python setup.py install\n",
    "!pip install cantools tqdm libusb1 pyserial bitstring"
   ]
  },
  {
   "cell_type": "code",
   "execution_count": 1,
   "metadata": {},
   "outputs": [
    {
     "name": "stdout",
     "output_type": "stream",
     "text": [
      "opening device 240048000651363038363036 0xddcc\n",
      "connected !!!\n"
     ]
    }
   ],
   "source": [
    "import binascii\n",
    "import bitstring\n",
    "import time\n",
    "import datetime\n",
    "import serial\n",
    "import csv\n",
    "import numpy as np\n",
    "import matplotlib.pyplot as plt\n",
    "\n",
    "import pandas as pd # Note that this is not commai Panda, but Database Pandas\n",
    "import cantools \n",
    "import matplotlib.animation as animation\n",
    "from matplotlib import style\n",
    "import uuid\n",
    "from panda import Panda #Import Comma AI Panda\n",
    "\n",
    "panda = Panda()"
   ]
  },
  {
   "cell_type": "code",
   "execution_count": null,
   "metadata": {
    "scrolled": false
   },
   "outputs": [],
   "source": [
    "__vehicleName__ = 'Toyota_CHR'\n",
    "# Create a Unique File Name\n",
    "unique_filename = str(uuid.uuid4())\n",
    "currTime = str(time.time())\n",
    "dt_object = datetime.datetime.fromtimestamp(time.time())\n",
    "dt = dt_object.strftime('%Y-%m-%d-%H-%M-%S-%f')\n",
    "fileName = dt + '_'  + '_CAN_Message_'+__vehicleName__+'.csv'\n",
    "rf_PANDA = open(fileName, 'a')\n",
    "print('Writing: '+fileName)\n",
    "csvwriter_PANDA = csv.writer(rf_PANDA)\n",
    "csvwriter_PANDA.writerow(['Time','Bus', 'MessageID', 'Message', 'MessageLength'])\n",
    "\n",
    "counter = 0\n",
    "while True:\n",
    "    #counter = counter + 1\n",
    "    can_recv = panda.can_recv() # collects packages, 256 at a time\n",
    "    #print(can_recv)\n",
    "    currTime = time.time() # Records time of collection\n",
    "    for messageID, _, dat, bus  in can_recv:\n",
    "        #print('currTime:' + str(currTime))\n",
    "        # Be careful changing this, can be picky:\n",
    "        #print(can_recv)\n",
    "        #print('Bus = ',  bus)\n",
    "        #print('\\n')\n",
    "        print('Message ID = ', messageID)\n",
    "        #print('\\n')\n",
    "        #print('Message = ', dat)\n",
    "        #print('\\n')\n",
    "        csvwriter_PANDA.writerow(([str(currTime), str(bus), str((messageID)), str(binascii.hexlify(dat).decode('utf-8')), len(dat)]))"
   ]
  },
  {
   "cell_type": "code",
   "execution_count": null,
   "metadata": {},
   "outputs": [],
   "source": []
  }
 ],
 "metadata": {
  "kernelspec": {
   "display_name": "Python 3",
   "language": "python",
   "name": "python3"
  },
  "language_info": {
   "codemirror_mode": {
    "name": "ipython",
    "version": 3
   },
   "file_extension": ".py",
   "mimetype": "text/x-python",
   "name": "python",
   "nbconvert_exporter": "python",
   "pygments_lexer": "ipython3",
   "version": "3.7.3"
  }
 },
 "nbformat": 4,
 "nbformat_minor": 2
}
