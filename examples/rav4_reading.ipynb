{
 "cells": [
  {
   "cell_type": "markdown",
   "metadata": {},
   "source": [
    "## Load the decode py script _DBC_READ_Tools_"
   ]
  },
  {
   "cell_type": "code",
   "execution_count": null,
   "metadata": {},
   "outputs": [],
   "source": [
    "import binascii\n",
    "import bitstring\n",
    "import time\n",
    "import datetime\n",
    "import serial\n",
    "import csv\n",
    "import numpy as np\n",
    "import matplotlib.pyplot as plt\n",
    "\n",
    "import pandas as pd # Note that this is not commai Panda, but Database Pandas\n",
    "import cantools \n",
    "import matplotlib.animation as animation\n",
    "from matplotlib import style\n",
    "import uuid"
   ]
  },
  {
   "cell_type": "code",
   "execution_count": null,
   "metadata": {},
   "outputs": [],
   "source": [
    "import DBC_Read_Tools as DBC"
   ]
  },
  {
   "cell_type": "markdown",
   "metadata": {},
   "source": [
    "## Now read the csv file we saved above and use DBC decoder to decode messages and plot"
   ]
  },
  {
   "cell_type": "code",
   "execution_count": null,
   "metadata": {},
   "outputs": [],
   "source": [
    "fileName = 'CAN_Data_Giraffe_2.csv'\n",
    "can_data = pd.read_csv(fileName)# read in the data\n",
    "db_file = cantools.db.load_file('newToyotacode.dbc')# Specify your dbc file"
   ]
  },
  {
   "cell_type": "markdown",
   "metadata": {},
   "source": [
    "### Decode and Plot"
   ]
  },
  {
   "cell_type": "code",
   "execution_count": null,
   "metadata": {},
   "outputs": [],
   "source": [
    "# %% Plot the speed of the vehicle:\n",
    "DBC.plotDBC('SPEED',1,can_data,db_file)"
   ]
  },
  {
   "cell_type": "code",
   "execution_count": null,
   "metadata": {},
   "outputs": [],
   "source": [
    "DBC.plotDBC('GAS_PEDAL',0,can_data,db_file)\n",
    "\n",
    "\n",
    "DBC.plotDBC('ACC_CONTROL',2,can_data,db_file)\n",
    "\n",
    "\n",
    "DBC.plotDBC('KINEMATICS',-1,can_data,db_file)\n",
    "\n",
    "DBC.plotDBC('KINEMATICS',0,can_data,db_file)\n",
    "\n",
    "DBC.plotDBC('KINEMATICS',1,can_data,db_file)\n",
    "\n",
    "DBC.plotDBC('UKNOWN186',0,can_data,db_file)\n",
    "\n",
    "\n",
    "DBC.plotDBC('UKNOWN291',0,can_data,db_file)\n",
    "DBC.plotDBC('UKNOWN291',1,can_data,db_file)\n",
    "DBC.plotDBC('UKNOWN291',2,can_data,db_file)\n",
    "\n",
    "DBC.plotDBC('UKNOWN296',0,can_data,db_file)\n",
    "DBC.plotDBC('UKNOWN296',1,can_data,db_file)\n",
    "DBC.plotDBC('UKNOWN296',2,can_data,db_file)\n",
    "\n",
    "\n",
    "#DBC.plotDBC('ACCELEROMETER', 0, can_data, db_file)\n",
    "\n",
    "# %% Plot the estimated longitudonal radar measurements for track 0 and its relative speed:\n",
    "DBC.plotDBC('TRACK_A_0',1,can_data,db_file)\n",
    "\n",
    "\n",
    "DBC.plotDBC('TRACK_A_0',4,can_data,db_file)\n",
    "# Note: Change the track number (for instance to TRACK_A_0) to see what other\n",
    "# tracks are reporting.\n",
    "\n",
    "# %% Clean and plot the distance measurements a bit:\n",
    "\n",
    "# Extract data as a numpy array:\n",
    "Distance_Data = DBC.getNumpyData('TRACK_A_1',1,can_data,db_file)\n",
    "Rel_Speed_Data = DBC.getNumpyData('TRACK_A_1',4,can_data,db_file)\n",
    "# This filters out distance measurements over 300:\n",
    "Distance_Data = DBC.cleanDistanceData(Distance_Data)\n",
    "\n",
    "print('Data Cleaned')\n",
    "# %% Plot Cleaned Distance:\n",
    "fig = plt.figure()\n",
    "ax = fig.add_subplot(1,1,1)\n",
    "ax.set_axisbelow(True)\n",
    "ax.minorticks_on()\n",
    "ax.tick_params(axis=\"x\", labelsize=18)\n",
    "ax.tick_params(axis=\"y\", labelsize=18)\n",
    "ax.grid(which='major', linestyle='-', linewidth='0.5', color='blue')\n",
    "ax.grid(which='minor', linestyle='--', linewidth='0.25', color='gray')\n",
    "ax.set_xlabel('Time', fontsize=18)\n",
    "ax.set_ylabel('Message', fontsize=18)\n",
    "ax.set_title('Longitudinal Distance Measurements - Cleaned',fontsize= 20)\n",
    "\n",
    "plt.plot(Distance_Data[:,0],Distance_Data[:,1],'.')"
   ]
  },
  {
   "cell_type": "code",
   "execution_count": null,
   "metadata": {},
   "outputs": [],
   "source": [
    "DBC.plotDBC('STEERING_LKA',0,can_data,db_file)"
   ]
  },
  {
   "cell_type": "code",
   "execution_count": null,
   "metadata": {},
   "outputs": [],
   "source": [
    "DBC.plotDBC('STEERING_LKA',1,can_data,db_file)"
   ]
  },
  {
   "cell_type": "code",
   "execution_count": null,
   "metadata": {},
   "outputs": [],
   "source": [
    "DBC.plotDBC('STEERING_LKA',2,can_data,db_file)"
   ]
  },
  {
   "cell_type": "code",
   "execution_count": null,
   "metadata": {},
   "outputs": [],
   "source": [
    "DBC.plotDBC('STEERING_LKA',3,can_data,db_file)"
   ]
  },
  {
   "cell_type": "code",
   "execution_count": null,
   "metadata": {},
   "outputs": [],
   "source": [
    "DBC.plotDBC('STEERING_LKA',4,can_data,db_file)"
   ]
  },
  {
   "cell_type": "code",
   "execution_count": null,
   "metadata": {},
   "outputs": [],
   "source": [
    "\n",
    "# %% Plot the estimated longitudonal radar measurements for track 0 and its relative speed:\n",
    "DBC.plotDBC('TRACK_A_0',1,can_data,db_file)\n",
    "DBC.plotDBC('TRACK_A_1',1,can_data,db_file)\n",
    "DBC.plotDBC('TRACK_A_2',1,can_data,db_file)\n",
    "\n",
    "\n",
    "DBC.plotDBC('PCM_CRUISE_SM',0,can_data,db_file)\n",
    "DBC.plotDBC('PCM_CRUISE_SM',1,can_data,db_file)\n",
    "DBC.plotDBC('PCM_CRUISE_SM',2,can_data,db_file)\n",
    "DBC.plotDBC('PCM_CRUISE_SM',3,can_data,db_file)\n",
    "DBC.plotDBC('PCM_CRUISE_2',0,can_data,db_file)\n",
    "DBC.plotDBC('PCM_CRUISE_2',1,can_data,db_file)\n",
    "\n",
    "\n",
    "\n",
    "DBC.plotDBC('PCM_CRUISE_2',2,can_data,db_file)\n",
    "DBC.plotDBC('PCM_CRUISE_2',3,can_data,db_file)\n",
    "\n",
    "DBC.plotDBC('PCM_CRUISE',0,can_data,db_file)\n",
    "DBC.plotDBC('PCM_CRUISE',1,can_data,db_file)\n",
    "DBC.plotDBC('PCM_CRUISE',2,can_data,db_file)\n",
    "DBC.plotDBC('PCM_CRUISE',3,can_data,db_file)\n",
    "DBC.plotDBC('PCM_CRUISE',4,can_data,db_file)"
   ]
  },
  {
   "cell_type": "markdown",
   "metadata": {},
   "source": [
    "## TODO : Correlate MINI CAR signal with Cleaned distance data from RADAR"
   ]
  },
  {
   "cell_type": "markdown",
   "metadata": {},
   "source": [
    "## Experimenting with More Stuff 11/07-11/08"
   ]
  },
  {
   "cell_type": "code",
   "execution_count": null,
   "metadata": {},
   "outputs": [],
   "source": [
    "# %% Plot the speed of the vehicle:\n",
    "BRAKE_PRESSURE = DBC.convertData('BRAKE_MODULE',0,can_data,db_file)\n",
    "BRAKE_MODULE_UKNOWN9_15 = DBC.convertData('BRAKE_MODULE',1,can_data,db_file)\n",
    "BRAKE_POSITION = DBC.convertData('BRAKE_MODULE',2,can_data,db_file)\n",
    "BRAKE_MODULE_UKNOWN25_36 = DBC.convertData('BRAKE_MODULE',3,can_data,db_file)\n",
    "BRAKE_PRESSED = DBC.convertData('BRAKE_MODULE',4,can_data,db_file)\n",
    "BRAKE_MODULE_UKNOWN38_46 = DBC.convertData('BRAKE_MODULE',5,can_data,db_file)\n",
    "BRAKE_MODULE_UKNOWN47_55 = DBC.convertData('BRAKE_MODULE',6,can_data,db_file)\n",
    "BRAKE_MODULE_UKNOWN56_63 = DBC.convertData('BRAKE_MODULE',7,can_data,db_file)\n",
    "\n",
    "\n",
    "DBC.plotDBC('BRAKE_MODULE',0,can_data,db_file)\n",
    "DBC.plotDBC('BRAKE_MODULE',1,can_data,db_file)\n",
    "DBC.plotDBC('BRAKE_MODULE',2,can_data,db_file)\n",
    "DBC.plotDBC('BRAKE_MODULE',3,can_data,db_file)\n",
    "DBC.plotDBC('BRAKE_MODULE',4,can_data,db_file)\n",
    "DBC.plotDBC('BRAKE_MODULE',5,can_data,db_file)\n",
    "DBC.plotDBC('BRAKE_MODULE',6,can_data,db_file)\n",
    "DBC.plotDBC('BRAKE_MODULE',7,can_data,db_file)"
   ]
  },
  {
   "cell_type": "code",
   "execution_count": null,
   "metadata": {},
   "outputs": [],
   "source": [
    "BRAKE_PRESSURE[230:231]"
   ]
  },
  {
   "cell_type": "code",
   "execution_count": null,
   "metadata": {},
   "outputs": [],
   "source": [
    "BRAKE_MODULE_UKNOWN9_15[230:231]"
   ]
  },
  {
   "cell_type": "code",
   "execution_count": null,
   "metadata": {},
   "outputs": [],
   "source": [
    "BRAKE_POSITION[230:231]"
   ]
  },
  {
   "cell_type": "code",
   "execution_count": null,
   "metadata": {},
   "outputs": [],
   "source": [
    "BRAKE_MODULE_UKNOWN25_36[230:231]"
   ]
  },
  {
   "cell_type": "code",
   "execution_count": null,
   "metadata": {},
   "outputs": [],
   "source": [
    "BRAKE_PRESSED[230:231]"
   ]
  },
  {
   "cell_type": "code",
   "execution_count": null,
   "metadata": {},
   "outputs": [],
   "source": [
    "BRAKE_MODULE_UKNOWN38_46[230:231]"
   ]
  },
  {
   "cell_type": "code",
   "execution_count": null,
   "metadata": {},
   "outputs": [],
   "source": [
    "BRAKE_MODULE_UKNOWN47_55[230:231]"
   ]
  },
  {
   "cell_type": "code",
   "execution_count": null,
   "metadata": {},
   "outputs": [],
   "source": [
    "BRAKE_MODULE_UKNOWN56_63[230:231]"
   ]
  },
  {
   "cell_type": "code",
   "execution_count": null,
   "metadata": {},
   "outputs": [],
   "source": [
    "msg = DBC.ExtractChffrData('BRAKE_MODULE',can_data,db_file)\n",
    "msgCopy = msg.copy()"
   ]
  },
  {
   "cell_type": "code",
   "execution_count": null,
   "metadata": {},
   "outputs": [],
   "source": [
    "msg[230:231]"
   ]
  },
  {
   "cell_type": "code",
   "execution_count": null,
   "metadata": {},
   "outputs": [],
   "source": [
    "msg['Message'] = msg['Message'].apply(lambda x: bytes.fromhex(x))"
   ]
  },
  {
   "cell_type": "code",
   "execution_count": null,
   "metadata": {},
   "outputs": [],
   "source": [
    "brake_message = db_file.get_message_by_name('BRAKE_MODULE')\n",
    "brake_message.signals\n",
    "new_brake_message = brake_message.encode({'BRAKE_PRESSURE': 31, 'BRAKE_POSITION': 0, 'BRAKE_PRESSED': 1})"
   ]
  },
  {
   "cell_type": "code",
   "execution_count": null,
   "metadata": {},
   "outputs": [],
   "source": [
    "new_brake_message"
   ]
  },
  {
   "cell_type": "code",
   "execution_count": null,
   "metadata": {},
   "outputs": [],
   "source": [
    "ENCODER = DBC.convertData('SPEED',0,can_data,db_file)\n",
    "SPEED = DBC.convertData('SPEED',1,can_data,db_file)\n",
    "CHECKSUM = DBC.convertData('SPEED',2,can_data,db_file)"
   ]
  },
  {
   "cell_type": "code",
   "execution_count": null,
   "metadata": {},
   "outputs": [],
   "source": [
    "msg = DBC.ExtractChffrData('SPEED',can_data,db_file)\n",
    "msg[230:231]"
   ]
  },
  {
   "cell_type": "code",
   "execution_count": null,
   "metadata": {},
   "outputs": [],
   "source": [
    "#msg['Message'] = msg['Message'].apply(lambda x: bytes.fromhex(x))\n",
    "p = '000000008D0666B5'\n",
    "bytes.fromhex(p)\n"
   ]
  },
  {
   "cell_type": "code",
   "execution_count": null,
   "metadata": {},
   "outputs": [],
   "source": [
    "db_file.decode_message('SPEED', bytes.fromhex(p))"
   ]
  },
  {
   "cell_type": "code",
   "execution_count": null,
   "metadata": {},
   "outputs": [],
   "source": [
    "msg[230:231]"
   ]
  },
  {
   "cell_type": "code",
   "execution_count": null,
   "metadata": {},
   "outputs": [],
   "source": [
    "msg[231:232]"
   ]
  },
  {
   "cell_type": "code",
   "execution_count": null,
   "metadata": {},
   "outputs": [],
   "source": [
    "msg[232:233]"
   ]
  },
  {
   "cell_type": "code",
   "execution_count": null,
   "metadata": {},
   "outputs": [],
   "source": [
    "msg[263:269]\n"
   ]
  },
  {
   "cell_type": "code",
   "execution_count": null,
   "metadata": {},
   "outputs": [],
   "source": [
    "\n",
    "00 00 00 00 e1 03 41 e1\n",
    "00 00 00 00 e1 03 3b db\n",
    "00 00 00 00 e5 03 3b df\n",
    "00 00 00 00 e5 03 30 d4"
   ]
  },
  {
   "cell_type": "code",
   "execution_count": null,
   "metadata": {},
   "outputs": [],
   "source": []
  }
 ],
 "metadata": {
  "kernelspec": {
   "display_name": "Python 3",
   "language": "python",
   "name": "python3"
  },
  "language_info": {
   "codemirror_mode": {
    "name": "ipython",
    "version": 3
   },
   "file_extension": ".py",
   "mimetype": "text/x-python",
   "name": "python",
   "nbconvert_exporter": "python",
   "pygments_lexer": "ipython3",
   "version": "3.7.3"
  }
 },
 "nbformat": 4,
 "nbformat_minor": 2
}
