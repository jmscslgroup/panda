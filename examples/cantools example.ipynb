{
 "cells": [
  {
   "cell_type": "code",
   "execution_count": 1,
   "metadata": {},
   "outputs": [],
   "source": [
    "import cantools"
   ]
  },
  {
   "cell_type": "code",
   "execution_count": 9,
   "metadata": {},
   "outputs": [],
   "source": [
    "import can"
   ]
  },
  {
   "cell_type": "code",
   "execution_count": 2,
   "metadata": {},
   "outputs": [],
   "source": [
    "from pprint import pprint"
   ]
  },
  {
   "cell_type": "code",
   "execution_count": 3,
   "metadata": {},
   "outputs": [],
   "source": [
    "db = cantools.database.load_file('newToyotacode.dbc')"
   ]
  },
  {
   "cell_type": "markdown",
   "metadata": {},
   "source": [
    "## Print all the messages avaialable in DBC File"
   ]
  },
  {
   "cell_type": "code",
   "execution_count": 4,
   "metadata": {},
   "outputs": [
    {
     "data": {
      "text/plain": [
       "[message('KINEMATICS', 0x24, False, 8, None),\n",
       " message('STEER_ANGLE_SENSOR', 0x25, False, 8, None),\n",
       " message('BRAKE', 0xa6, False, 8, None),\n",
       " message('WHEEL_SPEEDS', 0xaa, False, 8, None),\n",
       " message('SPEED', 0xb4, False, 8, None),\n",
       " message('UKNOWN186', 0xba, False, 4, None),\n",
       " message('UKNOWN291', 0x123, False, 7, None),\n",
       " message('UKNOWN296', 0x128, False, 6, None),\n",
       " message('DSU_SPEED', 0x161, False, 8, None),\n",
       " message('STEERING_IPAS_COMMA', 0x167, False, 8, None),\n",
       " message('TRACK_A_0', 0x180, False, 8, None),\n",
       " message('TRACK_A_1', 0x181, False, 8, None),\n",
       " message('TRACK_A_2', 0x182, False, 8, None),\n",
       " message('TRACK_A_3', 0x183, False, 8, None),\n",
       " message('TRACK_A_4', 0x184, False, 8, None),\n",
       " message('TRACK_A_5', 0x185, False, 8, None),\n",
       " message('TRACK_A_6', 0x186, False, 8, None),\n",
       " message('TRACK_A_7', 0x187, False, 8, None),\n",
       " message('TRACK_A_8', 0x188, False, 8, None),\n",
       " message('TRACK_A_9', 0x189, False, 8, None),\n",
       " message('TRACK_A_10', 0x18a, False, 8, None),\n",
       " message('TRACK_A_11', 0x18b, False, 8, None),\n",
       " message('TRACK_A_12', 0x18c, False, 8, None),\n",
       " message('TRACK_A_13', 0x18d, False, 8, None),\n",
       " message('TRACK_A_14', 0x18e, False, 8, None),\n",
       " message('TRACK_A_15', 0x18f, False, 8, None),\n",
       " message('TRACK_B_0', 0x190, False, 8, None),\n",
       " message('TRACK_B_1', 0x191, False, 8, None),\n",
       " message('TRACK_B_2', 0x192, False, 8, None),\n",
       " message('TRACK_B_3', 0x193, False, 8, None),\n",
       " message('TRACK_B_4', 0x194, False, 8, None),\n",
       " message('TRACK_B_5', 0x195, False, 8, None),\n",
       " message('TRACK_B_6', 0x196, False, 8, None),\n",
       " message('TRACK_B_7', 0x197, False, 8, None),\n",
       " message('TRACK_B_8', 0x198, False, 8, None),\n",
       " message('TRACK_B_9', 0x199, False, 8, None),\n",
       " message('TRACK_B_10', 0x19a, False, 8, None),\n",
       " message('TRACK_B_11', 0x19b, False, 8, None),\n",
       " message('TRACK_B_12', 0x19c, False, 8, None),\n",
       " message('TRACK_B_13', 0x19d, False, 8, None),\n",
       " message('TRACK_B_14', 0x19e, False, 8, None),\n",
       " message('TRACK_B_15', 0x19f, False, 8, None),\n",
       " message('NEW_MSG_1', 0x240, False, 8, None),\n",
       " message('NEW_MSG_2', 0x241, False, 8, None),\n",
       " message('PCM_CRUISE', 0x1d2, False, 8, None),\n",
       " message('PCM_CRUISE_2', 0x1d3, False, 8, None),\n",
       " message('GAS_COMMAND', 0x200, False, 6, None),\n",
       " message('GAS_SENSOR', 0x201, False, 6, None),\n",
       " message('BRAKE_MODULE', 0x226, False, 8, None),\n",
       " message('ACCELEROMETER', 0x228, False, 8, None),\n",
       " message('BRAKE_MODULE2', 0x230, False, 7, None),\n",
       " message('GAS_PEDAL', 0x245, False, 8, None),\n",
       " message('STEER_TORQUE_SENSOR', 0x260, False, 8, None),\n",
       " message('EPS_STATUS', 0x262, False, 8, None),\n",
       " message('STEERING_IPAS', 0x266, False, 8, None),\n",
       " message('PRE_COLLISION', 0x283, False, 8, None),\n",
       " message('STEERING_LKA', 0x2e4, False, 5, None),\n",
       " message('LEAD_INFO', 0x2e6, False, 8, None),\n",
       " message('ACC_CONTROL', 0x343, False, 8, None),\n",
       " message('PCM_CRUISE_SM', 0x399, False, 8, None),\n",
       " message('ESP_CONTROL', 0x3b7, False, 8, None),\n",
       " message('ACC_HUD', 0x411, False, 8, None),\n",
       " message('LKAS_HUD', 0x412, False, 8, None),\n",
       " message('UI_SEETING', 0x611, False, 8, None),\n",
       " message('STEERING_LEVERS', 0x614, False, 8, None),\n",
       " message('SEATS_DOORS', 0x620, False, 8, None),\n",
       " message('LIGHT_STALK', 0x622, False, 8, None),\n",
       " message('RSA1', 0x489, False, 8, None),\n",
       " message('RSA2', 0x48a, False, 8, None),\n",
       " message('RSA3', 0x48b, False, 8, None)]"
      ]
     },
     "execution_count": 4,
     "metadata": {},
     "output_type": "execute_result"
    }
   ],
   "source": [
    "db.messages"
   ]
  },
  {
   "cell_type": "code",
   "execution_count": 5,
   "metadata": {},
   "outputs": [],
   "source": [
    "example_message = db.get_message_by_name('KINEMATICS')"
   ]
  },
  {
   "cell_type": "code",
   "execution_count": 6,
   "metadata": {},
   "outputs": [
    {
     "name": "stdout",
     "output_type": "stream",
     "text": [
      "[signal('YAW_RATE', 1, 10, 'big_endian', False, None, 1, -512, 0, 65535, 'None', False, None, None, 'verify'),\n",
      " signal('STEERING_TORQUE', 17, 10, 'big_endian', False, None, 1, -512, 0, 65535, 'None', False, None, None, 'does not seem the steer torque, tbd'),\n",
      " signal('ACCEL_Y', 33, 10, 'big_endian', False, None, 1, -512, 0, 65535, 'None', False, None, None, 'unit is tbd')]\n"
     ]
    }
   ],
   "source": [
    "pprint(example_message.signals)"
   ]
  },
  {
   "cell_type": "code",
   "execution_count": 11,
   "metadata": {},
   "outputs": [],
   "source": [
    "can_bus = can.interface.Bus('vcan0', bustype='socketcan')"
   ]
  },
  {
   "cell_type": "code",
   "execution_count": 21,
   "metadata": {},
   "outputs": [],
   "source": [
    "for i in range(0, 200):\n",
    "    data = example_message.encode({'YAW_RATE': 10, 'STEERING_TORQUE': 100, 'ACCEL_Y': 3.4})\n",
    "    message = can.Message(arbitration_id=example_message.frame_id, data=data)\n",
    "    can_bus.send(message)"
   ]
  },
  {
   "cell_type": "code",
   "execution_count": 24,
   "metadata": {},
   "outputs": [
    {
     "name": "stdout",
     "output_type": "stream",
     "text": [
      "b'\\x02\\n\\x02d\\x02\\x03\\x00\\x00'\n"
     ]
    }
   ],
   "source": [
    "print(data)"
   ]
  },
  {
   "cell_type": "code",
   "execution_count": 26,
   "metadata": {},
   "outputs": [
    {
     "name": "stdout",
     "output_type": "stream",
     "text": [
      "b'\\x08\\xa8\\x1b\\xcd\\xff\\x00\\x00s'\n"
     ]
    }
   ],
   "source": [
    "byteMessage = bytes(bytearray.fromhex('08a81bcdff000073'))\n",
    "byteMsg = bytearray(byteMessage)\n",
    "print(byteMessage)"
   ]
  },
  {
   "cell_type": "code",
   "execution_count": 23,
   "metadata": {},
   "outputs": [
    {
     "name": "stdout",
     "output_type": "stream",
     "text": [
      "Successfully generated new_toyotacode.h and new_toyotacode.c.\n"
     ]
    }
   ],
   "source": [
    "!cantools generate_c_source newToyotacode.dbc"
   ]
  },
  {
   "cell_type": "code",
   "execution_count": null,
   "metadata": {},
   "outputs": [],
   "source": []
  },
  {
   "cell_type": "code",
   "execution_count": null,
   "metadata": {},
   "outputs": [],
   "source": []
  }
 ],
 "metadata": {
  "kernelspec": {
   "display_name": "Python 3",
   "language": "python",
   "name": "python3"
  },
  "language_info": {
   "codemirror_mode": {
    "name": "ipython",
    "version": 3
   },
   "file_extension": ".py",
   "mimetype": "text/x-python",
   "name": "python",
   "nbconvert_exporter": "python",
   "pygments_lexer": "ipython3",
   "version": "3.7.3"
  }
 },
 "nbformat": 4,
 "nbformat_minor": 4
}
