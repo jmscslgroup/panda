{
 "cells": [
  {
   "cell_type": "markdown",
   "metadata": {},
   "source": [
    "# Script to record data from RAV4 Using Panda/Giraffe"
   ]
  },
  {
   "cell_type": "markdown",
   "metadata": {},
   "source": [
    "## Install Panda"
   ]
  },
  {
   "cell_type": "code",
   "execution_count": null,
   "metadata": {
    "scrolled": false
   },
   "outputs": [],
   "source": [
    "!cd ..; python setup.py install"
   ]
  },
  {
   "cell_type": "markdown",
   "metadata": {},
   "source": [
    "## Install other necessary packages"
   ]
  },
  {
   "cell_type": "code",
   "execution_count": null,
   "metadata": {},
   "outputs": [],
   "source": [
    "!pip install cantools tqdm libusb1 pyserial bitstring"
   ]
  },
  {
   "cell_type": "markdown",
   "metadata": {},
   "source": [
    "## Import  Packages"
   ]
  },
  {
   "cell_type": "code",
   "execution_count": null,
   "metadata": {},
   "outputs": [],
   "source": [
    "import binascii\n",
    "import bitstring\n",
    "import time\n",
    "import datetime\n",
    "import serial\n",
    "import csv\n",
    "import numpy as np\n",
    "import matplotlib.pyplot as plt\n",
    "\n",
    "\n",
    "\n",
    "import pandas as pd # Note that this is not commai Panda, but Database Pandas\n",
    "import cantools \n",
    "import matplotlib.animation as animation\n",
    "from matplotlib import style\n",
    "import uuid\n",
    "\n"
   ]
  },
  {
   "cell_type": "markdown",
   "metadata": {},
   "source": [
    "## Connect to Panda"
   ]
  },
  {
   "cell_type": "code",
   "execution_count": null,
   "metadata": {},
   "outputs": [],
   "source": [
    "from panda import Panda #Import Comma AI Panda\n",
    "__vehicleName__ = 'Rav4'\n",
    "panda = Panda()"
   ]
  },
  {
   "cell_type": "markdown",
   "metadata": {},
   "source": [
    "## Record data in infinite loop"
   ]
  },
  {
   "cell_type": "markdown",
   "metadata": {},
   "source": [
    "### To Stope recrod, go to Kernel -> Interrupt"
   ]
  },
  {
   "cell_type": "code",
   "execution_count": null,
   "metadata": {},
   "outputs": [],
   "source": [
    "\n",
    "# Create a Unique File Name\n",
    "unique_filename = str(uuid.uuid4())\n",
    "currTime = str(time.time())\n",
    "dt_object = datetime.datetime.fromtimestamp(time.time())\n",
    "dt = dt_object.strftime('%Y-%m-%d-%H-%M-%S-%f')\n",
    "fileName = dt + '_' + unique_filename  + '_CAN_Message_'+__vehicleName__+'.csv'\n",
    "rf_PANDA = open(fileName, 'a')\n",
    "print('Writing: '+fileName)\n",
    "csvwriter_PANDA = csv.writer(rf_PANDA)\n",
    "csvwriter_PANDA.writerow(['Time','Bus', 'MessageID', 'Message', 'MessageLength'])\n",
    "\n",
    "while True:\n",
    "    can_recv = panda.can_recv() # collects packages, 256 at a time\n",
    "    #print(can_recv)\n",
    "    currTime = time.time() # Records time of collection\n",
    "    for address, _, dat, src  in can_recv:\n",
    "    \t# Be careful changing this, can be picky:\n",
    "    \tcsvwriter_PANDA.writerow(([str(currTime), str(src), str((address)), str(binascii.hexlify(dat).decode('utf-8')), len(dat)]))\n",
    "    \t#print('Addres: '+str((address)), end='\\r')"
   ]
  },
  {
   "cell_type": "markdown",
   "metadata": {},
   "source": [
    "## Load the decode py script _DBC_READ_Tools_"
   ]
  },
  {
   "cell_type": "code",
   "execution_count": null,
   "metadata": {},
   "outputs": [],
   "source": [
    "import DBC_Read_Tools as DBC\n"
   ]
  },
  {
   "cell_type": "markdown",
   "metadata": {},
   "source": [
    "## Now read the csv file we saved above and use DBC decoder to decode messages and plot"
   ]
  },
  {
   "cell_type": "code",
   "execution_count": null,
   "metadata": {},
   "outputs": [],
   "source": [
    "can_data = pd.read_csv('CAN_Data_Giraffe.csv')# read in the data\n",
    "#can_data = pd.read_csv(fileName)\n",
    "db_file = cantools.db.load_file('newToyotacode.dbc')# Specify your dbc file"
   ]
  },
  {
   "cell_type": "markdown",
   "metadata": {},
   "source": [
    "### Decode and Plot"
   ]
  },
  {
   "cell_type": "code",
   "execution_count": null,
   "metadata": {},
   "outputs": [],
   "source": [
    "\n",
    "# %% Plot the speed of the vehicle:\n",
    "DBC.plotDBC('SPEED',1,can_data,db_file)"
   ]
  },
  {
   "cell_type": "code",
   "execution_count": null,
   "metadata": {
    "scrolled": false
   },
   "outputs": [],
   "source": [
    "\n",
    "\n",
    "DBC.plotDBC('GAS_PEDAL',0,can_data,db_file)\n",
    "\n",
    "\n",
    "DBC.plotDBC('ACC_CONTROL',2,can_data,db_file)\n",
    "\n",
    "\n",
    "DBC.plotDBC('KINEMATICS',-1,can_data,db_file)\n",
    "\n",
    "DBC.plotDBC('KINEMATICS',0,can_data,db_file)\n",
    "\n",
    "DBC.plotDBC('KINEMATICS',1,can_data,db_file)\n",
    "\n",
    "DBC.plotDBC('UKNOWN186',0,can_data,db_file)\n",
    "\n",
    "\n",
    "DBC.plotDBC('UKNOWN291',0,can_data,db_file)\n",
    "DBC.plotDBC('UKNOWN291',1,can_data,db_file)\n",
    "DBC.plotDBC('UKNOWN291',2,can_data,db_file)\n",
    "\n",
    "DBC.plotDBC('UKNOWN296',0,can_data,db_file)\n",
    "DBC.plotDBC('UKNOWN296',1,can_data,db_file)\n",
    "DBC.plotDBC('UKNOWN296',2,can_data,db_file)\n",
    "\n",
    "\n",
    "#DBC.plotDBC('ACCELEROMETER', 0, can_data, db_file)\n",
    "\n",
    "# %% Plot the estimated longitudonal radar measurements for track 0 and its relative speed:\n",
    "DBC.plotDBC('TRACK_A_0',1,can_data,db_file)\n",
    "\n",
    "\n",
    "DBC.plotDBC('TRACK_A_0',4,can_data,db_file)\n",
    "# Note: Change the track number (for instance to TRACK_A_0) to see what other\n",
    "# tracks are reporting.\n",
    "\n",
    "# %% Clean and plot the distance measurements a bit:\n",
    "\n",
    "# Extract data as a numpy array:\n",
    "Distance_Data = DBC.getNumpyData('TRACK_A_1',1,can_data,db_file)\n",
    "Rel_Speed_Data = DBC.getNumpyData('TRACK_A_1',4,can_data,db_file)\n",
    "# This filters out distance measurements over 300:\n",
    "Distance_Data = DBC.cleanDistanceData(Distance_Data)\n",
    "\n",
    "print('Data Cleaned')\n",
    "# %% Plot Cleaned Distance:\n",
    "fig = plt.figure()\n",
    "ax = fig.add_subplot(1,1,1)\n",
    "ax.set_axisbelow(True)\n",
    "ax.minorticks_on()\n",
    "ax.tick_params(axis=\"x\", labelsize=18)\n",
    "ax.tick_params(axis=\"y\", labelsize=18)\n",
    "ax.grid(which='major', linestyle='-', linewidth='0.5', color='blue')\n",
    "ax.grid(which='minor', linestyle='--', linewidth='0.25', color='gray')\n",
    "ax.set_xlabel('Time', fontsize=18)\n",
    "ax.set_ylabel('Message', fontsize=18)\n",
    "ax.set_title('Longitudinal Distance Measurements - Cleaned',fontsize= 20)\n",
    "\n",
    "plt.plot(Distance_Data[:,0],Distance_Data[:,1],'.')"
   ]
  },
  {
   "cell_type": "code",
   "execution_count": null,
   "metadata": {},
   "outputs": [],
   "source": [
    "DBC.plotDBC('STEERING_LKA',0,can_data,db_file)"
   ]
  },
  {
   "cell_type": "code",
   "execution_count": null,
   "metadata": {},
   "outputs": [],
   "source": [
    "DBC.plotDBC('STEERING_LKA',1,can_data,db_file)"
   ]
  },
  {
   "cell_type": "code",
   "execution_count": null,
   "metadata": {},
   "outputs": [],
   "source": [
    "DBC.plotDBC('STEERING_LKA',2,can_data,db_file)"
   ]
  },
  {
   "cell_type": "code",
   "execution_count": null,
   "metadata": {},
   "outputs": [],
   "source": [
    "DBC.plotDBC('STEERING_LKA',3,can_data,db_file)"
   ]
  },
  {
   "cell_type": "code",
   "execution_count": null,
   "metadata": {},
   "outputs": [],
   "source": [
    "DBC.plotDBC('STEERING_LKA',4,can_data,db_file)"
   ]
  },
  {
   "cell_type": "code",
   "execution_count": null,
   "metadata": {},
   "outputs": [],
   "source": [
    "\n",
    "# %% Plot the estimated longitudonal radar measurements for track 0 and its relative speed:\n",
    "DBC.plotDBC('TRACK_A_0',1,can_data,db_file)\n",
    "DBC.plotDBC('TRACK_A_1',1,can_data,db_file)\n",
    "DBC.plotDBC('TRACK_A_2',1,can_data,db_file)\n"
   ]
  }
 ],
 "metadata": {
  "kernelspec": {
   "display_name": "Python 3",
   "language": "python",
   "name": "python3"
  },
  "language_info": {
   "codemirror_mode": {
    "name": "ipython",
    "version": 3
   },
   "file_extension": ".py",
   "mimetype": "text/x-python",
   "name": "python",
   "nbconvert_exporter": "python",
   "pygments_lexer": "ipython3",
   "version": "3.7.3"
  }
 },
 "nbformat": 4,
 "nbformat_minor": 2
}
