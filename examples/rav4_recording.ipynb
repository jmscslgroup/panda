{
 "cells": [
  {
   "cell_type": "markdown",
   "metadata": {},
   "source": [
    "# Script to record data from RAV4 Using Panda/Giraffe"
   ]
  },
  {
   "cell_type": "markdown",
   "metadata": {},
   "source": [
    "#### Before you start working with panda make sure you have executed following command in the terminal.\n",
    "`sudo -i`\n",
    "\n",
    "`echo 'SUBSYSTEMS==\"usb\", ATTR{idVendor}==\"bbaa\", ATTR{idProduct}==\"ddcc\", MODE:=\"0666\"' > /etc/udev/rules.d/11-panda.rules`\n",
    "\n",
    "`exit`\n"
   ]
  },
  {
   "cell_type": "markdown",
   "metadata": {},
   "source": [
    "## Install Panda from clone repository."
   ]
  },
  {
   "cell_type": "code",
   "execution_count": null,
   "metadata": {},
   "outputs": [],
   "source": [
    "# You don't to run it if you have already run it. By default I will comment it out!\n",
    "!pip uninstall pandacan -y\n",
    "!cd ..; python setup.py install"
   ]
  },
  {
   "cell_type": "markdown",
   "metadata": {},
   "source": [
    "## Install other necessary packages"
   ]
  },
  {
   "cell_type": "code",
   "execution_count": null,
   "metadata": {},
   "outputs": [],
   "source": [
    "# You don't to run it if you have already run it. By default I will comment it out!\n",
    "!pip install cantools tqdm libusb1 pyserial bitstring"
   ]
  },
  {
   "cell_type": "markdown",
   "metadata": {},
   "source": [
    "## Import  Packages"
   ]
  },
  {
   "cell_type": "code",
   "execution_count": null,
   "metadata": {},
   "outputs": [],
   "source": [
    "import binascii\n",
    "import bitstring\n",
    "import time\n",
    "import datetime\n",
    "import serial\n",
    "import csv\n",
    "import numpy as np\n",
    "import matplotlib.pyplot as plt\n",
    "\n",
    "import pandas as pd # Note that this is not commai Panda, but Database Pandas\n",
    "import cantools \n",
    "import matplotlib.animation as animation\n",
    "from matplotlib import style\n",
    "import uuid"
   ]
  },
  {
   "cell_type": "markdown",
   "metadata": {},
   "source": [
    "## Connect to Panda"
   ]
  },
  {
   "cell_type": "code",
   "execution_count": null,
   "metadata": {},
   "outputs": [],
   "source": [
    "from panda import Panda #Import Comma AI Panda\n",
    "__vehicleName__ = 'Rav4'\n",
    "panda = Panda()"
   ]
  },
  {
   "cell_type": "code",
   "execution_count": null,
   "metadata": {},
   "outputs": [],
   "source": [
    "#from panda import PandaWifiStreaming\n",
    "#panda = PandaWifiStreaming(ip=\"192.168.0.11\")"
   ]
  },
  {
   "cell_type": "code",
   "execution_count": null,
   "metadata": {},
   "outputs": [],
   "source": [
    "can_recv = panda.can_recv(14096) "
   ]
  },
  {
   "cell_type": "code",
   "execution_count": null,
   "metadata": {},
   "outputs": [],
   "source": [
    "len(can_recv)"
   ]
  },
  {
   "cell_type": "markdown",
   "metadata": {},
   "source": [
    "## Record data in infinite loop"
   ]
  },
  {
   "cell_type": "code",
   "execution_count": null,
   "metadata": {},
   "outputs": [],
   "source": [
    "len(can_recv)"
   ]
  },
  {
   "cell_type": "markdown",
   "metadata": {},
   "source": [
    "### To Stope recrod, go to Kernel -> Interrupt"
   ]
  },
  {
   "cell_type": "code",
   "execution_count": null,
   "metadata": {
    "scrolled": true
   },
   "outputs": [],
   "source": [
    "__vehicleName__ = 'Rav4'\n",
    "# Create a Unique File Name\n",
    "#unique_filename = str(uuid.uuid4())\n",
    "currTime = str(time.time())\n",
    "dt_object = datetime.datetime.fromtimestamp(time.time())\n",
    "dt = dt_object.strftime('%Y-%m-%d-%H-%M-%S-%f')\n",
    "fileName = dt + '_' + '_CAN_Message_'+__vehicleName__+'.csv'\n",
    "rf_PANDA = open(fileName, 'a')\n",
    "print('Writing: '+fileName)\n",
    "csvwriter_PANDA = csv.writer(rf_PANDA)\n",
    "csvwriter_PANDA.writerow(['Time','Bus', 'MessageID', 'Message', 'MessageLength'])\n",
    "\n",
    "counter = 0\n",
    "while True:\n",
    "    #counter = counter + 1\n",
    "    can_recv = panda.can_recv() # collects packages, 256 at a time\n",
    "    #print(can_recv)\n",
    "    currTime = time.time() # Records time of collection\n",
    "    for messageID, _, dat, bus  in can_recv:\n",
    "        # Be careful changing this, can be picky:\n",
    "        #if address == 467:\n",
    "        #    print(can_recv)\n",
    "        #    print('Bus = ',  bus)\n",
    "        #    print('\\n')\n",
    "        #    print('Message ID = ', messageID)\n",
    "        #    print('\\n')\n",
    "        #    print('Message = ', dat)\n",
    "        #    print('\\n')\n",
    "        csvwriter_PANDA.writerow(([str(currTime), str(bus), str((messageID)), str(binascii.hexlify(dat).decode('utf-8')), len(dat)]))\n",
    "        #print('Addres: '+str((address)), end='\\r')"
   ]
  },
  {
   "cell_type": "markdown",
   "metadata": {},
   "source": [
    "## Before you remove USB from Lapop, make sure to run `panda.close()`"
   ]
  },
  {
   "cell_type": "code",
   "execution_count": null,
   "metadata": {},
   "outputs": [],
   "source": [
    "panda.close()"
   ]
  },
  {
   "cell_type": "code",
   "execution_count": null,
   "metadata": {},
   "outputs": [],
   "source": []
  }
 ],
 "metadata": {
  "kernelspec": {
   "display_name": "Python 3",
   "language": "python",
   "name": "python3"
  },
  "language_info": {
   "codemirror_mode": {
    "name": "ipython",
    "version": 3
   },
   "file_extension": ".py",
   "mimetype": "text/x-python",
   "name": "python",
   "nbconvert_exporter": "python",
   "pygments_lexer": "ipython3",
   "version": "3.7.3"
  }
 },
 "nbformat": 4,
 "nbformat_minor": 4
}
