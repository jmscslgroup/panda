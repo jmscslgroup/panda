{
 "cells": [
  {
   "cell_type": "code",
   "execution_count": null,
   "metadata": {},
   "outputs": [],
   "source": [
    "# Dependency installation\n",
    "!pip install libusb1"
   ]
  },
  {
   "cell_type": "code",
   "execution_count": null,
   "metadata": {
    "scrolled": false
   },
   "outputs": [],
   "source": [
    "!pip uninstall pandacan -y\n"
   ]
  },
  {
   "cell_type": "code",
   "execution_count": null,
   "metadata": {
    "scrolled": true
   },
   "outputs": [],
   "source": [
    "!cd /home/ivory/VersionControl/Jmscslgroup/panda; python setup.py install"
   ]
  },
  {
   "cell_type": "code",
   "execution_count": 3,
   "metadata": {},
   "outputs": [],
   "source": [
    "from panda import Panda"
   ]
  },
  {
   "cell_type": "code",
   "execution_count": 2,
   "metadata": {},
   "outputs": [
    {
     "name": "stdout",
     "output_type": "stream",
     "text": [
      "Requirement already satisfied: pyserial in /home/ivory/anaconda3/lib/python3.7/site-packages (3.4)\r\n"
     ]
    }
   ],
   "source": [
    "!pip install pyserial"
   ]
  },
  {
   "cell_type": "code",
   "execution_count": 36,
   "metadata": {},
   "outputs": [],
   "source": [
    "import binascii\n",
    "import bitstring\n",
    "import time\n",
    "import datetime\n",
    "import serial\n",
    "import csv\n",
    "\n",
    "startTime = time.time()"
   ]
  },
  {
   "cell_type": "code",
   "execution_count": 37,
   "metadata": {},
   "outputs": [],
   "source": [
    "#panda = Panda()\n",
    "\n",
    "\n",
    "#from panda import WifiHandle\n",
    "\n",
    "#wifi = panda.get_serial()\n",
    "\n",
    "#print(wifi)\n",
    "#print(\"SSID: \" +  str(wifi[0], 'utf-8'))\n",
    "#print(\"Password: \" + str(wifi[1], 'utf-8'))"
   ]
  },
  {
   "cell_type": "code",
   "execution_count": 38,
   "metadata": {},
   "outputs": [],
   "source": [
    "#can_recv = panda.can_recv() # collects packages, 256 at a time"
   ]
  },
  {
   "cell_type": "code",
   "execution_count": 39,
   "metadata": {},
   "outputs": [],
   "source": [
    "#import socket"
   ]
  },
  {
   "cell_type": "code",
   "execution_count": 45,
   "metadata": {},
   "outputs": [
    {
     "name": "stdout",
     "output_type": "stream",
     "text": [
      "opening device 240048000651363038363036 0xddcc\n",
      "We print self handle <usb1.USBDeviceHandle object at 0x7fce594b7f28>\n",
      "exception LIBUSB_ERROR_BUSY [-6]\n",
      "connected !!!\n"
     ]
    },
    {
     "name": "stderr",
     "output_type": "stream",
     "text": [
      "Traceback (most recent call last):\n",
      "  File \"/home/ivory/anaconda3/lib/python3.7/site-packages/pandacan-0.0.9-py3.7.egg/panda/__init__.py\", line 185, in connect\n",
      "    self._handle.claimInterface(0)\n",
      "  File \"/home/ivory/anaconda3/lib/python3.7/site-packages/usb1/__init__.py\", line 1309, in claimInterface\n",
      "    libusb1.libusb_claim_interface(self.__handle, interface),\n",
      "  File \"/home/ivory/anaconda3/lib/python3.7/site-packages/usb1/__init__.py\", line 133, in mayRaiseUSBError\n",
      "    __raiseUSBError(value)\n",
      "  File \"/home/ivory/anaconda3/lib/python3.7/site-packages/usb1/__init__.py\", line 125, in raiseUSBError\n",
      "    raise __STATUS_TO_EXCEPTION_DICT.get(value, __USBError)(value)\n",
      "usb1.USBErrorBusy: LIBUSB_ERROR_BUSY [-6]\n"
     ]
    }
   ],
   "source": [
    "#socket.create_connection((\"192.168.0.11\", 1337))\n",
    "panda = Panda()"
   ]
  },
  {
   "cell_type": "code",
   "execution_count": null,
   "metadata": {
    "scrolled": false
   },
   "outputs": [],
   "source": [
    "\n",
    "fileName = 'CAN_Data.csv'\n",
    "rf_PANDA = open(fileName, 'a')\n",
    "print('Writing: '+fileName)\n",
    "csvwriter_PANDA = csv.writer(rf_PANDA)\n",
    "csvwriter_PANDA.writerow(['Time','Bus', 'MessageID', 'Message', 'MessageLength'])\n",
    "\n",
    "while True:\n",
    "    print('Iterating')\n",
    "    can_recv = panda.can_recv() # collects packages, 256 at a time\n",
    "    print(can_recv)\n",
    "    currTime = time.time() # Records time of collection\n",
    "    for address, _, dat, src  in can_recv:\n",
    "    \t# Be careful changing this, can be picky:\n",
    "    \tcsvwriter_PANDA.writerow(([str(currTime - startTime), str(src), str((address)), str(binascii.hexlify(dat).decode('utf-8')), len(dat)]))\n",
    "    \tprint('Addres: '+str((address)), end='\\r')"
   ]
  },
  {
   "cell_type": "code",
   "execution_count": null,
   "metadata": {},
   "outputs": [],
   "source": [
    "WifiHandle"
   ]
  },
  {
   "cell_type": "code",
   "execution_count": 47,
   "metadata": {},
   "outputs": [],
   "source": [
    "import usb1"
   ]
  },
  {
   "cell_type": "code",
   "execution_count": null,
   "metadata": {},
   "outputs": [],
   "source": [
    "import usb1\n",
    "with usb1.USBContext() as context:\n",
    "    handle = context.openByVendorIDAndProductID(\n",
    "        \"bbaa\",\n",
    "        \"ddcc\",\n",
    "        skip_on_error=True,\n",
    "    )\n",
    "    if handle is None:\n",
    "        print(\"No\")\n",
    "    else:\n",
    "        with handle.claimInterface(INTERFACE):\n",
    "            print(\"yes\")"
   ]
  },
  {
   "cell_type": "code",
   "execution_count": null,
   "metadata": {},
   "outputs": [],
   "source": [
    "context.getByVendorIDAndProductID"
   ]
  },
  {
   "cell_type": "code",
   "execution_count": null,
   "metadata": {
    "scrolled": false
   },
   "outputs": [],
   "source": [
    "startTime = time.time()\n",
    "# Connect to the panda:\n",
    "p = Panda()\n",
    "# Should display on the command line a message affirming connection\n",
    "\n",
    "\n"
   ]
  },
  {
   "cell_type": "code",
   "execution_count": 44,
   "metadata": {},
   "outputs": [],
   "source": [
    "panda._handle.setAutoDetachKernelDriver(True)"
   ]
  },
  {
   "cell_type": "code",
   "execution_count": 48,
   "metadata": {},
   "outputs": [],
   "source": [
    "context = usb1.USBContext()"
   ]
  },
  {
   "cell_type": "code",
   "execution_count": 49,
   "metadata": {},
   "outputs": [
    {
     "data": {
      "text/plain": [
       "<usb1.USBContext at 0x7fce59218ac8>"
      ]
     },
     "execution_count": 49,
     "metadata": {},
     "output_type": "execute_result"
    }
   ],
   "source": [
    "context"
   ]
  },
  {
   "cell_type": "code",
   "execution_count": 53,
   "metadata": {},
   "outputs": [
    {
     "data": {
      "text/plain": [
       "<usb1.USBContext at 0x7fce59218ac8>"
      ]
     },
     "execution_count": 53,
     "metadata": {},
     "output_type": "execute_result"
    }
   ],
   "source": [
    "context.open()"
   ]
  },
  {
   "cell_type": "code",
   "execution_count": null,
   "metadata": {},
   "outputs": [],
   "source": []
  }
 ],
 "metadata": {
  "kernelspec": {
   "display_name": "Python 3",
   "language": "python",
   "name": "python3"
  },
  "language_info": {
   "codemirror_mode": {
    "name": "ipython",
    "version": 3
   },
   "file_extension": ".py",
   "mimetype": "text/x-python",
   "name": "python",
   "nbconvert_exporter": "python",
   "pygments_lexer": "ipython3",
   "version": "3.7.3"
  }
 },
 "nbformat": 4,
 "nbformat_minor": 2
}
