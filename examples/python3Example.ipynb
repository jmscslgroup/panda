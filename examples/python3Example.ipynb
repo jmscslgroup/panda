{
 "cells": [
  {
   "cell_type": "code",
   "execution_count": null,
   "metadata": {},
   "outputs": [],
   "source": [
    "# Dependency installation\n",
    "!pip install libusb1"
   ]
  },
  {
   "cell_type": "code",
   "execution_count": null,
   "metadata": {
    "scrolled": true
   },
   "outputs": [],
   "source": [
    "!pip uninstall pandacan -y\n",
    "!cd ..; git pull; python setup.py install"
   ]
  },
  {
   "cell_type": "code",
   "execution_count": null,
   "metadata": {},
   "outputs": [],
   "source": [
    "from panda import Panda"
   ]
  },
  {
   "cell_type": "code",
   "execution_count": null,
   "metadata": {},
   "outputs": [],
   "source": [
    "!pip install pyserial"
   ]
  },
  {
   "cell_type": "code",
   "execution_count": null,
   "metadata": {},
   "outputs": [],
   "source": [
    "import binascii\n",
    "import bitstring\n",
    "import time\n",
    "import datetime\n",
    "import serial\n",
    "import csv\n",
    "import uuid\n",
    "\n",
    "\n",
    "startTime = time.time()"
   ]
  },
  {
   "cell_type": "code",
   "execution_count": null,
   "metadata": {},
   "outputs": [],
   "source": [
    "panda = Panda()\n",
    "\n",
    "\n",
    "#from panda import WifiHandle\n",
    "\n",
    "#wifi = panda.get_serial()\n",
    "\n",
    "#print(wifi)\n",
    "#print(\"SSID: \" +  str(wifi[0], 'utf-8'))\n",
    "#print(\"Password: \" + str(wifi[1], 'utf-8'))"
   ]
  },
  {
   "cell_type": "code",
   "execution_count": null,
   "metadata": {},
   "outputs": [],
   "source": [
    "can_recv = panda.can_recv(2) # collects packages, 256 at a time"
   ]
  },
  {
   "cell_type": "code",
   "execution_count": null,
   "metadata": {},
   "outputs": [],
   "source": [
    "can_recv"
   ]
  },
  {
   "cell_type": "code",
   "execution_count": null,
   "metadata": {},
   "outputs": [],
   "source": [
    "#import socket"
   ]
  },
  {
   "cell_type": "code",
   "execution_count": null,
   "metadata": {},
   "outputs": [],
   "source": [
    "#socket.create_connection((\"192.168.0.11\", 1337))\n",
    "\n",
    "\n",
    "## Well, we are trying to find which socket port is open to communicate to Panda over wifi\n",
    "port = [902, 6600]\n",
    "\n",
    "for i in range(65000,66000):\n",
    "    try:\n",
    "        panda = Panda(\"WIFI\",ip=\"192.168.0.12\", port = i)\n",
    "        print(\"port: \" , i)\n",
    "        \n",
    "        # Create a Unique File Name\n",
    "        unique_filename = str(uuid.uuid4())\n",
    "        currTime = str(time.time())\n",
    "        dt_object = datetime.datetime.fromtimestamp(time.time())\n",
    "        dt = dt_object.strftime('%Y-%m-%d-%H-%M-%S-%f')\n",
    "        fileName = dt + '_' + unique_filename  + '_CAN_Message_'+'.csv'\n",
    "        rf_PANDA = open(fileName, 'a')\n",
    "        print('Writing: '+fileName)\n",
    "        csvwriter_PANDA = csv.writer(rf_PANDA)\n",
    "        csvwriter_PANDA.writerow(['Time','Bus', 'MessageID', 'Message', 'MessageLength'])\n",
    "        can_recv = panda.can_recv() # collects packages, 256 at a time\n",
    "        print(can_recv)\n",
    "        currTime = time.time() # Records time of collection\n",
    "        for address, _, dat, src  in can_recv:\n",
    "            # Be careful changing this, can be picky:\n",
    "            csvwriter_PANDA.writerow(([str(currTime), str(src), str((address)), str(binascii.hexlify(dat).decode('utf-8')), len(dat)]))\n",
    "            print('Addres: '+str((address)), end='\\r')\n",
    "        panda.close()\n",
    "    except ConnectionRefusedError:\n",
    "        continue\n"
   ]
  },
  {
   "cell_type": "code",
   "execution_count": null,
   "metadata": {},
   "outputs": [],
   "source": [
    "panda.close()"
   ]
  },
  {
   "cell_type": "code",
   "execution_count": null,
   "metadata": {
    "scrolled": true
   },
   "outputs": [],
   "source": [
    "\n",
    "\n",
    "fileName = 'CAN_Data_Giraffe_3.csv'\n",
    "rf_PANDA = open(fileName, 'a')\n",
    "print('Writing: '+fileName)\n",
    "csvwriter_PANDA = csv.writer(rf_PANDA)\n",
    "csvwriter_PANDA.writerow(['Time','Bus', 'MessageID', 'Message', 'MessageLength'])\n",
    "\n",
    "while True:\n",
    "    print('Iterating')\n",
    "    can_recv = panda.can_recv() # collects packages, 256 at a time\n",
    "    #print(can_recv)\n",
    "    currTime = time.time() # Records time of collection\n",
    "    for address, _, dat, src  in can_recv:\n",
    "    \t# Be careful changing this, can be picky:\n",
    "    \tcsvwriter_PANDA.writerow(([str(currTime - startTime), str(src), str((address)), str(binascii.hexlify(dat).decode('utf-8')), len(dat)]))\n",
    "    \t#print('Addres: '+str((address)), end='\\r')"
   ]
  },
  {
   "cell_type": "code",
   "execution_count": null,
   "metadata": {},
   "outputs": [],
   "source": [
    "WifiHandle"
   ]
  },
  {
   "cell_type": "code",
   "execution_count": null,
   "metadata": {},
   "outputs": [],
   "source": [
    "import usb1"
   ]
  },
  {
   "cell_type": "code",
   "execution_count": null,
   "metadata": {},
   "outputs": [],
   "source": [
    "import usb1\n",
    "with usb1.USBContext() as context:\n",
    "    handle = context.openByVendorIDAndProductID(\n",
    "        \"bbaa\",\n",
    "        \"ddcc\",\n",
    "        skip_on_error=True,\n",
    "    )\n",
    "    if handle is None:\n",
    "        print(\"No\")\n",
    "    else:\n",
    "        with handle.claimInterface(INTERFACE):\n",
    "            print(\"yes\")"
   ]
  },
  {
   "cell_type": "code",
   "execution_count": null,
   "metadata": {},
   "outputs": [],
   "source": [
    "context.getByVendorIDAndProductID"
   ]
  },
  {
   "cell_type": "code",
   "execution_count": null,
   "metadata": {},
   "outputs": [],
   "source": [
    "startTime = time.time()\n",
    "# Connect to the panda:\n",
    "p = Panda()\n",
    "# Should display on the command line a message affirming connection\n",
    "\n",
    "\n"
   ]
  },
  {
   "cell_type": "code",
   "execution_count": null,
   "metadata": {},
   "outputs": [],
   "source": [
    "panda._handle.setAutoDetachKernelDriver(True)"
   ]
  },
  {
   "cell_type": "code",
   "execution_count": null,
   "metadata": {},
   "outputs": [],
   "source": [
    "context = usb1.USBContext()"
   ]
  },
  {
   "cell_type": "code",
   "execution_count": null,
   "metadata": {},
   "outputs": [],
   "source": [
    "context"
   ]
  },
  {
   "cell_type": "code",
   "execution_count": null,
   "metadata": {},
   "outputs": [],
   "source": [
    "context.open()"
   ]
  },
  {
   "cell_type": "code",
   "execution_count": null,
   "metadata": {},
   "outputs": [],
   "source": []
  }
 ],
 "metadata": {
  "kernelspec": {
   "display_name": "Python 3",
   "language": "python",
   "name": "python3"
  },
  "language_info": {
   "codemirror_mode": {
    "name": "ipython",
    "version": 3
   },
   "file_extension": ".py",
   "mimetype": "text/x-python",
   "name": "python",
   "nbconvert_exporter": "python",
   "pygments_lexer": "ipython3",
   "version": "3.7.3"
  }
 },
 "nbformat": 4,
 "nbformat_minor": 4
}
