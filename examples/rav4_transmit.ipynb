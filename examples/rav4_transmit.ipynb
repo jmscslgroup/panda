{
 "cells": [
  {
   "cell_type": "markdown",
   "metadata": {},
   "source": [
    "# Transmitting CAN Message to RAV4, copied from captured CAN Data"
   ]
  },
  {
   "cell_type": "markdown",
   "metadata": {},
   "source": [
    "## Uninstall, Get update and Reinstall Panda"
   ]
  },
  {
   "cell_type": "code",
   "execution_count": null,
   "metadata": {},
   "outputs": [],
   "source": [
    "!pip uninstall pandacan -y\n",
    "!cd ..; git pull; python setup.py install"
   ]
  },
  {
   "cell_type": "markdown",
   "metadata": {},
   "source": [
    "## Necessary Imports"
   ]
  },
  {
   "cell_type": "code",
   "execution_count": null,
   "metadata": {},
   "outputs": [],
   "source": [
    "import binascii\n",
    "import bitstring\n",
    "import time\n",
    "import datetime\n",
    "import serial\n",
    "import csv\n",
    "import numpy as np\n",
    "import matplotlib.pyplot as plt\n",
    "\n",
    "import random\n",
    "\n",
    "import pandas as pd # Note that this is not commai Panda, but Database Pandas\n",
    "import cantools \n",
    "import matplotlib.animation as animation\n",
    "from matplotlib import style\n",
    "import uuid"
   ]
  },
  {
   "cell_type": "markdown",
   "metadata": {},
   "source": [
    "## Import CommaAI Panda package"
   ]
  },
  {
   "cell_type": "code",
   "execution_count": null,
   "metadata": {},
   "outputs": [],
   "source": [
    "from panda import Panda #Import Comma AI Panda\n",
    "__vehicleName__ = 'Rav4'\n",
    "panda = Panda()"
   ]
  },
  {
   "cell_type": "markdown",
   "metadata": {},
   "source": [
    "## Copy the required messages from an existing CAN Data CSV File"
   ]
  },
  {
   "cell_type": "code",
   "execution_count": null,
   "metadata": {},
   "outputs": [],
   "source": [
    "import struct\n",
    "\n",
    "## Filename of an already recorded data from where we will read messages to transmit\n",
    "Filename = '2019-10-25-12-46-30-126677_8f806f3c-159e-4096-8552-b0aa7a0a681d_CAN_Message_Rav4.csv'\n",
    "can_data = pd.read_csv(Filename)# read in the data\n",
    "\n",
    "# We just want to send Message Type 466 and 467\n",
    "MSG_467 = can_data[(can_data['MessageID'] == 467) | (can_data['MessageID'] == 466)]\n",
    "Bus467 = MSG_467['Bus']\n",
    "Message467 = MSG_467['Message']\n",
    "\n",
    "MSG_467 = MSG_467.drop(columns=\"Time\")\n",
    "MSG_467 = MSG_467.drop(columns=\"MessageLength\")\n",
    "\n",
    "MSG_467['XXX'] = 61932\n",
    "\n",
    "MSG_467 = MSG_467[['MessageID', 'XXX','Message', 'Bus']]\n",
    "\n",
    "print(MSG_467)\n",
    "TUPLEMsg = [tuple(x) for x in MSG_467.to_records(index=False)]\n",
    "\n",
    "LENGTH = len(TUPLEMsg)"
   ]
  },
  {
   "cell_type": "code",
   "execution_count": null,
   "metadata": {},
   "outputs": [],
   "source": []
  },
  {
   "cell_type": "markdown",
   "metadata": {},
   "source": [
    "## Now we are ready to send messages to RAV4 using _can\\_send\\_many()_ function"
   ]
  },
  {
   "cell_type": "code",
   "execution_count": null,
   "metadata": {},
   "outputs": [],
   "source": [
    "for i in range(0, LENGTH):\n",
    "    print('sending')\n",
    "    (msgID, XXX, Message, Bus) = TUPLEMsg[i]\n",
    "    byteMessage = bytes(bytearray.fromhex(Message))\n",
    "    byteMsg = bytearray(byteMessage)\n",
    "    msgTuple = (msgID, XXX, byteMsg, Bus)\n",
    "    msg = [msgTuple]\n",
    "    print(msg)\n",
    "    panda.can_send_many(msg)\n",
    "    time.sleep(0.01)"
   ]
  },
  {
   "cell_type": "markdown",
   "metadata": {},
   "source": [
    "#### But the above code sends message after reading from a file that has a captured data.\n",
    "#### Below, I am providing a way to send message after manually constructing them"
   ]
  },
  {
   "cell_type": "markdown",
   "metadata": {},
   "source": [
    "## Construct and send message via cantools"
   ]
  },
  {
   "cell_type": "code",
   "execution_count": null,
   "metadata": {},
   "outputs": [],
   "source": [
    "import cantools\n",
    "import can\n",
    "from pprint import pprint\n",
    "db = cantools.database.load_file('newToyotacode.dbc')\n",
    "example_message = db.get_message_by_frame_id(467)\n",
    "print(example_message)\n",
    "for i in range(0, len(example_message.signals)):\n",
    "    print(example_message.signals[i])"
   ]
  },
  {
   "cell_type": "code",
   "execution_count": null,
   "metadata": {},
   "outputs": [],
   "source": [
    "for i in range(0, 2000):\n",
    "    print('sending')\n",
    "    main_on = 1\n",
    "    low_speed_lockout = 1\n",
    "    set_speed = 50\n",
    "    messageId = 467\n",
    "    messageLen = 5\n",
    "    IDH = messageID & 0x0FF\n",
    "    IDL = d>>8 & 0x0FF\n",
    "    \n",
    "    checksum = IDH + IDL + messageLen\n",
    "    \n",
    "    data = example_message.encode({'MAIN_ON': 1, 'LOW_SPEED_LOCKOUT': 1, 'SET_SPEED': 44, 'CHECKSUM':2 })\n",
    "    (msgID, XXX, Message, Bus) = TUPLEMsg[i]\n",
    "    byteMessage = bytes(bytearray.fromhex(Message))\n",
    "    byteMsg = bytearray(byteMessage)\n",
    "    msgTuple = (msgID, XXX, byteMsg, Bus)\n",
    "    msg = [msgTuple]\n",
    "    print(msg)\n",
    "    panda.can_send_many(msg)\n",
    "    time.sleep(0.01)"
   ]
  },
  {
   "cell_type": "markdown",
   "metadata": {},
   "source": [
    "## Decoding an existing message using cantools"
   ]
  },
  {
   "cell_type": "code",
   "execution_count": null,
   "metadata": {},
   "outputs": [],
   "source": [
    "messageID = 740\n",
    "message = \"d8000000c3\" # An existing message\n",
    "byteMsg = bytes(bytearray.fromhex(message))\n",
    "msgLen = len(byteMsg)\n",
    "\n",
    "db.decode_message(messageID, byteMsg)"
   ]
  },
  {
   "cell_type": "markdown",
   "metadata": {},
   "source": [
    "\n",
    "## Close the connection to Panda"
   ]
  },
  {
   "cell_type": "code",
   "execution_count": null,
   "metadata": {},
   "outputs": [],
   "source": [
    "panda.close()"
   ]
  },
  {
   "cell_type": "markdown",
   "metadata": {},
   "source": []
  },
  {
   "cell_type": "markdown",
   "metadata": {},
   "source": [
    "## Experimenting with more stuff 11/08"
   ]
  },
  {
   "cell_type": "code",
   "execution_count": null,
   "metadata": {},
   "outputs": [],
   "source": [
    "d = 467\n",
    "h=hex(d)\n",
    "print(h)"
   ]
  },
  {
   "cell_type": "code",
   "execution_count": null,
   "metadata": {},
   "outputs": [],
   "source": [
    "print(hex(d & 0x0FF))\n",
    "print(hex(d>>8 & 0x0FF))"
   ]
  },
  {
   "cell_type": "code",
   "execution_count": null,
   "metadata": {},
   "outputs": [],
   "source": [
    "steer = (random.randint(0, 2) % 2 == 0)\n",
    "steer_req = (random.randint(0, 2) % 2 == 0)\n",
    "raw_cnt = random.randint(1, 65536)\n",
    "def create_steer_command(packer, steer, steer_req, raw_cnt):\n",
    "    \"\"\"Creates a CAN message for the Toyota Steer Command.\"\"\"\n",
    "    values = {\n",
    "        \"STEER_REQUEST\": steer_req,\n",
    "        \"STEER_TORQUE_CMD\": steer,\n",
    "        \"COUNTER\": raw_cnt,\n",
    "        \"SET_ME_1\": 1,\n",
    "    }\n",
    "    return packer.make_can_msg(\"STEERING_LKA\", 0, values)"
   ]
  },
  {
   "cell_type": "code",
   "execution_count": null,
   "metadata": {},
   "outputs": [],
   "source": [
    "dbc_name = 'newToyotacode.dbc'\n",
    "dbc_name = dbc_name.encode('utf8')"
   ]
  },
  {
   "cell_type": "code",
   "execution_count": null,
   "metadata": {},
   "outputs": [],
   "source": [
    "MSG_166 = can_data[(can_data['MessageID'] == 550)]\n",
    "print(MSG_166)\n",
    "Bus160 = MSG_166['Bus']\n",
    "Message166 = MSG_166['Message']\n",
    "\n"
   ]
  }
 ],
 "metadata": {
  "kernelspec": {
   "display_name": "Python 3",
   "language": "python",
   "name": "python3"
  },
  "language_info": {
   "codemirror_mode": {
    "name": "ipython",
    "version": 3
   },
   "file_extension": ".py",
   "mimetype": "text/x-python",
   "name": "python",
   "nbconvert_exporter": "python",
   "pygments_lexer": "ipython3",
   "version": "3.7.3"
  }
 },
 "nbformat": 4,
 "nbformat_minor": 4
}
